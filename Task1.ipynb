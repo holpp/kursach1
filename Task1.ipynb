{
  "cells": [
    {
      "cell_type": "markdown",
      "metadata": {
        "id": "mp-b5qUF8Ntk"
      },
      "source": [
        "# Методы оптимизации"
      ]
    },
    {
      "cell_type": "markdown",
      "metadata": {
        "id": "7ElCL-e18Ntm"
      },
      "source": [
        "## Основы оптимизации\n",
        "\n",
        "В этой работе мы рассмотрим основы оптимизации, для чего она используется, и рассмотрим базовые подходы,а так же познакомимся с возможностями Jupyter Notebook и Google Colab."
      ]
    },
    {
      "cell_type": "markdown",
      "metadata": {
        "id": "rq8YbICu8Ntn"
      },
      "source": [
        "## Задача\n",
        "\n",
        "Рассмотрим простую задачу для оптимизации. Начем с примера, рассмотренного в [статье](https://habr.com/ru/post/517056/).\n",
        "\n",
        "Необходимо минимизировать функцию\n",
        "\n",
        "$$\n",
        "f(x) = 1.3 \\cdot (x - y)^2 + 0.7 \\cdot (x + y)^2\n",
        "$$\n",
        "\n",
        "используя [метод случайного поиска с вовзратом при неудачном шаге](https://studfile.net/preview/2152158/page:10/)"
      ]
    },
    {
      "cell_type": "raw",
      "metadata": {
        "id": "XziTaTnt8Ntn"
      },
      "source": [
        "Для оптимизации и представления результата воспользуемся средствами визуализации Jupyter Notebook, расмотренными в [статье](https://habr.com/ru/post/517056/).\n",
        "\n",
        "Добавим виджеты Jupyter Notebook и функции, необходимые для анимации процесса поиска оптимального решения:"
      ]
    },
    {
      "cell_type": "markdown",
      "metadata": {
        "id": "cmjN6hpm8Ntn"
      },
      "source": [
        "## Внимание!\n",
        "Как [выяснилось](https://colab.research.google.com/drive/14uWejf0v1DII-CfcY48bl06i2zlSx-hl), интерактивность не поддерживается в Google Colab"
      ]
    },
    {
      "cell_type": "code",
      "execution_count": null,
      "metadata": {
        "id": "Gze5s9pc8Ntn"
      },
      "outputs": [],
      "source": [
        "from IPython.display import HTML\n",
        "# подключаем модули Jupyter Notebook для взаимодействия с пользователем\n",
        "from ipywidgets import interact, interactive, fixed, interact_manual\n",
        "import ipywidgets as widgets\n",
        "from IPython.display import display\n",
        "\n",
        "# пдключаем модули для расчетов и рисования графиков\n",
        "import numpy as np\n",
        "import matplotlib.pyplot as plt\n",
        "\n",
        "\n",
        "# Служебная функция\n",
        "# Возврашает элемент массива, переданного ей в качестве первого параметра с указанным номером\n",
        "def step_slice(lst, step):\n",
        "    return lst[step]\n",
        "\n",
        "\n",
        "# Функция анимации. Именно она будет рисовать последовательность шагов\n",
        "def animate_list(lst, play=False, interval=200):\n",
        "    slider = widgets.IntSlider(min=0, max=len(lst) - 1, step=1, value=0)\n",
        "    if play:\n",
        "        play_widjet = widgets.Play(interval=interval)\n",
        "        widgets.jslink((play_widjet, 'value'), (slider, 'value'))\n",
        "        display(play_widjet)\n",
        "    return interact(step_slice, lst=fixed(lst), step=slider)\n",
        "\n",
        "\n",
        "# Отрисовка траектории и линий уровня функции\n",
        "def plot_trajectory(func, traj, limit_point=None):\n",
        "    # Добавим график, в ктором будем рисовать\n",
        "    fig = plt.figure(figsize=(7, 7))\n",
        "    ax = fig.add_axes([0, 0, 1, 1])\n",
        "\n",
        "    # Если задаа финальная точка, обозначим ее зеленым кружком\n",
        "    if limit_point:\n",
        "        ax.plot([limit_point[0]], [limit_point[1]], 'o', color='green')\n",
        "\n",
        "    delta = 0.025\n",
        "    x = np.arange(-2, 2, delta)  # диапазон значений по x\n",
        "    y = np.arange(-2, 2, delta)  # и по y соответственно\n",
        "    X, Y = np.meshgrid(x, y)  # пространственная сетка по указанным диапазонам значений\n",
        "\n",
        "    # вычисление значений функции во всех узлах сетки, необходимо для рисования изолиний на графике\n",
        "    Z = np.zeros_like(X)\n",
        "    for i in range(X.shape[0]):\n",
        "        for j in range(X.shape[1]):\n",
        "            Z[i][j] = func(X[i][j], Y[i][j])\n",
        "    # создание контуров изолиний по заданным значениям функции\n",
        "    CS = ax.contour(X, Y, Z, [0.5, 1.5, 3], colors=['blue', 'purple', 'red'])  # значения функции, для которых будут нарисованы изолинии, и соответствующие им цвета\n",
        "    ax.plot([u[0] for u in traj], [u[1] for u in traj], color='black')  # рисование всех линий траектории\n",
        "    ax.plot([u[0] for u in traj], [u[1] for u in traj], 'o', color='black')  # и соответствующих им точек\n",
        "\n",
        "    plt.close(fig)\n",
        "    return fig"
      ]
    },
    {
      "cell_type": "markdown",
      "metadata": {
        "id": "xZOLY6QS8Nto"
      },
      "source": [
        "Опишем функцию, которую хотим минимизировать, и собственно алгоритм минимизации"
      ]
    },
    {
      "cell_type": "code",
      "execution_count": null,
      "metadata": {
        "colab": {
          "referenced_widgets": [
            "f4dd521c42694ed5aa246a24df402059",
            "6a6f45055b9243159948cad62a57a817"
          ]
        },
        "id": "wIcR99Sq8Nto",
        "outputId": "22f43d51-4260-4767-9329-ea0ed637712c"
      },
      "outputs": [
        {
          "data": {
            "application/vnd.jupyter.widget-view+json": {
              "model_id": "f4dd521c42694ed5aa246a24df402059",
              "version_major": 2,
              "version_minor": 0
            },
            "text/plain": [
              "Play(value=0, interval=300)"
            ]
          },
          "metadata": {},
          "output_type": "display_data"
        },
        {
          "data": {
            "application/vnd.jupyter.widget-view+json": {
              "model_id": "6a6f45055b9243159948cad62a57a817",
              "version_major": 2,
              "version_minor": 0
            },
            "text/plain": [
              "interactive(children=(IntSlider(value=0, description='step', max=49), Output()), _dom_classes=('widget-interac…"
            ]
          },
          "metadata": {},
          "output_type": "display_data"
        }
      ],
      "source": [
        "display(HTML('<link rel=\"stylesheet\" href=\"//stackpath.bootstrapcdn.com/font-awesome/4.7.0/css/font-awesome.min.css\"/>'))\n",
        "# Функция, которую минимизируем, минимум в точке (0, 0)\n",
        "def f(x, y):\n",
        "    return 1.3 * (x - y) ** 2 + 0.7 * (x + y) ** 2\n",
        "\n",
        "x, y = (1.0, 1.0)  # начальная точка\n",
        "num_iters = 50  # число шагов алгоритма (не факт, что минимум будет достигнут)\n",
        "trajectory = [(x, y)]  # траектория пока состоит только из начальной точки\n",
        "plots = []  # шаги алгоритма, которые будут анимированы, пока их нет\n",
        "\n",
        "# Собственно алгоритм\n",
        "for i in range(num_iters):  # выполняем num_iters шагов\n",
        "    angle = 2 * np.pi * np.random.rand(1)  # случайным образом выбираем направленние движения\n",
        "    dx, dy = (np.cos(angle)[0] / 2 / (i + 1) ** 0.5, np.sin(angle)[0] / 2 / (i + 1) ** 0.5)  # находим смещение\n",
        "\n",
        "    trajectory.append((x + dx, y + dy))  # добавляем очередную найденую точку к таектории\n",
        "    plots.append(plot_trajectory(f, trajectory, limit_point=(0, 0)))  # добавляем шаг работы алгоритма, который надо нарисовать в анимации\n",
        "\n",
        "    if f(x, y) > f(x + dx, y + dy):  # если в выбранной точке значение целевой функции меньше, чем в предыдущей...\n",
        "        x = x + dx  # перемещаемся\n",
        "        y = y + dy  # в нее\n",
        "    else:\n",
        "        trajectory = trajectory[:-1]  # иначе вернемся на шаг назад\n",
        "\n",
        "animate_list(plots, play=True, interval=300);  # выводим все наши шаги в виде анимации"
      ]
    },
    {
      "cell_type": "code",
      "execution_count": null,
      "metadata": {
        "id": "KqEggnLW8Ntp"
      },
      "outputs": [],
      "source": []
    },
    {
      "cell_type": "markdown",
      "metadata": {
        "id": "U3xg5sVd8Ntp"
      },
      "source": [
        "Вам необходимо выполнить следующие задачи:\n",
        "\n",
        "1. Изменить алгоритм таким образом, чтобы останов алгоритма происходил:\n",
        "    * при достижении заданной точности, или\n",
        "    * по выполнению заданного числа шагов (в приведенной выше программе использовано только это условие)\n",
        "2. Реализовать [алгоритм покоординатного спуска](http://www.machinelearning.ru/wiki/index.php?title=Метод_покоординатного_спуска) и анимацию его работы для той же функции\n",
        "\n",
        "Для вашего удобства код алгоритма продублирован без изменений ниже для каждого из пунктов заданий. Вам необходимо модифицировать его в соответствии с указанным заданием."
      ]
    },
    {
      "cell_type": "markdown",
      "metadata": {
        "id": "qvtU2-tq8Ntp"
      },
      "source": [
        "1. Изменить алгоритм таким образом, чтобы останов алгоритма происходил при достижении заданной точности, или по выполнению заданного числа шагов"
      ]
    },
    {
      "cell_type": "code",
      "execution_count": null,
      "metadata": {
        "id": "ZDS8jXkQ8Ntp"
      },
      "outputs": [],
      "source": [
        "x, y = (1.0, 1.0)  # начальная точка\n",
        "num_iters = 50  # число шагов алгоритма (не факт, что минимум будет достигнут)\n",
        "trajectory = [(x, y)]  # траектория пока состоит только из начальной точки\n",
        "plots = []  # шаги алгоритма, которые будут анимированы, пока их нет\n",
        "\n",
        "# Собственно алгоритм\n",
        "for i in range(num_iters):  # выполняем num_iters шагов\n",
        "    angle = 2 * np.pi * np.random.rand(1)  # случайным образом выбираем направленние движения\n",
        "    dx, dy = (np.cos(angle)[0] / 2 / (i + 1) ** 0.5, np.sin(angle)[0] / 2 / (i + 1) ** 0.5)  # находим смещение\n",
        "\n",
        "    trajectory.append((x + dx, y + dy))  # добавляем очередную найденую точку к таектории\n",
        "    plots.append(plot_trajectory(f, trajectory, limit_point=(0, 0)))  # добавляем шаг работы алгоритма, который надо нарисовать в анимации\n",
        "\n",
        "    if f(x, y) > f(x + dx, y + dy):  # если в выбранной точке значение целевой функции меньше, чем в предыдущей...\n",
        "        x = x + dx  # перемещаемся\n",
        "        y = y + dy  # в нее\n",
        "    else:\n",
        "        trajectory = trajectory[:-1]  # иначе вернемся на шаг назад\n",
        "\n",
        "animate_list(plots, play=True, interval=300);  # выводим все наши шаги в виде анимации"
      ]
    },
    {
      "cell_type": "markdown",
      "metadata": {
        "id": "G5T_lYQk8Ntp"
      },
      "source": [
        "2. Реализовать [алгоритм покоординатного спуска](http://www.machinelearning.ru/wiki/index.php?title=Метод_покоординатного_спуска) и анимацию его работы"
      ]
    },
    {
      "cell_type": "code",
      "execution_count": null,
      "metadata": {
        "id": "W4V_ckCE8Ntq"
      },
      "outputs": [],
      "source": [
        "x, y = (1.0, 1.0)  # начальная точка\n",
        "num_iters = 50  # число шагов алгоритма (не факт, что минимум будет достигнут)\n",
        "trajectory = [(x, y)]  # траектория пока состоит только из начальной точки\n",
        "plots = []  # шаги алгоритма, которые будут анимированы, пока их нет\n",
        "\n",
        "# Собственно алгоритм\n",
        "for i in range(num_iters):  # выполняем num_iters шагов\n",
        "    angle = 2 * np.pi * np.random.rand(1)  # случайным образом выбираем направленние движения\n",
        "    dx, dy = (np.cos(angle)[0] / 2 / (i + 1) ** 0.5, np.sin(angle)[0] / 2 / (i + 1) ** 0.5)  # находим смещение\n",
        "\n",
        "    trajectory.append((x + dx, y + dy))  # добавляем очередную найденую точку к таектории\n",
        "    plots.append(plot_trajectory(f, trajectory, limit_point=(0, 0)))  # добавляем шаг работы алгоритма, который надо нарисовать в анимации\n",
        "\n",
        "    if f(x, y) > f(x + dx, y + dy):  # если в выбранной точке значение целевой функции меньше, чем в предыдущей...\n",
        "        x = x + dx  # перемещаемся\n",
        "        y = y + dy  # в нее\n",
        "    else:\n",
        "        trajectory = trajectory[:-1]  # иначе вернемся на шаг назад\n",
        "\n",
        "animate_list(plots, play=True, interval=300);  # выводим все наши шаги в виде анимации"
      ]
    }
  ],
  "metadata": {
    "kernelspec": {
      "display_name": "Python 3",
      "language": "python",
      "name": "python3"
    },
    "language_info": {
      "codemirror_mode": {
        "name": "ipython",
        "version": 3
      },
      "file_extension": ".py",
      "mimetype": "text/x-python",
      "name": "python",
      "nbconvert_exporter": "python",
      "pygments_lexer": "ipython3",
      "version": "3.8.5"
    },
    "colab": {
      "provenance": []
    }
  },
  "nbformat": 4,
  "nbformat_minor": 0
}